{
 "cells": [
  {
   "cell_type": "code",
   "execution_count": 3,
   "metadata": {
    "scrolled": true
   },
   "outputs": [],
   "source": [
    "# import required libraries\n",
    "from kafka import KafkaProducer, KafkaConsumer\n",
    "import time"
   ]
  },
  {
   "cell_type": "code",
   "execution_count": 4,
   "metadata": {},
   "outputs": [],
   "source": [
    "import avro.schema\n",
    "import avro.io\n",
    "import io"
   ]
  },
  {
   "cell_type": "code",
   "execution_count": 5,
   "metadata": {},
   "outputs": [],
   "source": [
    "schema_file = 'sample.avsc'\n",
    "schema = avro.schema.parse(open(schema_file).read())"
   ]
  },
  {
   "cell_type": "code",
   "execution_count": 6,
   "metadata": {},
   "outputs": [],
   "source": [
    "def serialize(schema, obj):\n",
    "    bytes_writer = io.BytesIO()\n",
    "    encoder = avro.io.BinaryEncoder(bytes_writer)\n",
    "    writer = avro.io.DatumWriter(schema)\n",
    "    writer.write(obj, encoder)\n",
    "    return bytes_writer.getvalue()"
   ]
  },
  {
   "cell_type": "code",
   "execution_count": 7,
   "metadata": {},
   "outputs": [],
   "source": [
    "# Connect to kafka broker running in your local host (docker). Change this to your kafka broker if needed\n",
    "kafka_broker = 'localhost:9092'"
   ]
  },
  {
   "cell_type": "code",
   "execution_count": 8,
   "metadata": {},
   "outputs": [],
   "source": [
    "producer = KafkaProducer(bootstrap_servers=[kafka_broker])"
   ]
  },
  {
   "cell_type": "code",
   "execution_count": null,
   "metadata": {},
   "outputs": [
    {
     "name": "stdout",
     "output_type": "stream",
     "text": [
      "{'key': 'key0', 'value': 'message #0', 'timestamp': 1679382609120}\n",
      "b'\\x08key0\\x14message #0\\xc0\\xf3\\x87\\xb0\\xe0a'\n",
      "{'key': 'key1', 'value': 'message #1', 'timestamp': 1679382611123}\n",
      "b'\\x08key1\\x14message #1\\xe6\\x92\\x88\\xb0\\xe0a'\n",
      "{'key': 'key2', 'value': 'message #2', 'timestamp': 1679382613126}\n",
      "b'\\x08key2\\x14message #2\\x8c\\xb2\\x88\\xb0\\xe0a'\n",
      "{'key': 'key3', 'value': 'message #3', 'timestamp': 1679382615132}\n",
      "b'\\x08key3\\x14message #3\\xb8\\xd1\\x88\\xb0\\xe0a'\n",
      "{'key': 'key4', 'value': 'message #4', 'timestamp': 1679382617139}\n",
      "b'\\x08key4\\x14message #4\\xe6\\xf0\\x88\\xb0\\xe0a'\n",
      "{'key': 'key5', 'value': 'message #5', 'timestamp': 1679382619142}\n",
      "b'\\x08key5\\x14message #5\\x8c\\x90\\x89\\xb0\\xe0a'\n",
      "{'key': 'key6', 'value': 'message #6', 'timestamp': 1679382621148}\n",
      "b'\\x08key6\\x14message #6\\xb8\\xaf\\x89\\xb0\\xe0a'\n",
      "{'key': 'key7', 'value': 'message #7', 'timestamp': 1679382623154}\n",
      "b'\\x08key7\\x14message #7\\xe4\\xce\\x89\\xb0\\xe0a'\n",
      "{'key': 'key8', 'value': 'message #8', 'timestamp': 1679382625159}\n",
      "b'\\x08key8\\x14message #8\\x8e\\xee\\x89\\xb0\\xe0a'\n",
      "{'key': 'key9', 'value': 'message #9', 'timestamp': 1679382627163}\n",
      "b'\\x08key9\\x14message #9\\xb6\\x8d\\x8a\\xb0\\xe0a'\n",
      "{'key': 'key10', 'value': 'message #10', 'timestamp': 1679382629171}\n",
      "b'\\nkey10\\x16message #10\\xe6\\xac\\x8a\\xb0\\xe0a'\n",
      "{'key': 'key11', 'value': 'message #11', 'timestamp': 1679382631177}\n",
      "b'\\nkey11\\x16message #11\\x92\\xcc\\x8a\\xb0\\xe0a'\n",
      "{'key': 'key12', 'value': 'message #12', 'timestamp': 1679382633183}\n",
      "b'\\nkey12\\x16message #12\\xbe\\xeb\\x8a\\xb0\\xe0a'\n",
      "{'key': 'key13', 'value': 'message #13', 'timestamp': 1679382635189}\n",
      "b'\\nkey13\\x16message #13\\xea\\x8a\\x8b\\xb0\\xe0a'\n",
      "{'key': 'key14', 'value': 'message #14', 'timestamp': 1679382637196}\n",
      "b'\\nkey14\\x16message #14\\x98\\xaa\\x8b\\xb0\\xe0a'\n",
      "{'key': 'key15', 'value': 'message #15', 'timestamp': 1679382639200}\n",
      "b'\\nkey15\\x16message #15\\xc0\\xc9\\x8b\\xb0\\xe0a'\n",
      "{'key': 'key16', 'value': 'message #16', 'timestamp': 1679382641206}\n",
      "b'\\nkey16\\x16message #16\\xec\\xe8\\x8b\\xb0\\xe0a'\n",
      "{'key': 'key17', 'value': 'message #17', 'timestamp': 1679382643211}\n",
      "b'\\nkey17\\x16message #17\\x96\\x88\\x8c\\xb0\\xe0a'\n",
      "{'key': 'key18', 'value': 'message #18', 'timestamp': 1679382645218}\n",
      "b'\\nkey18\\x16message #18\\xc4\\xa7\\x8c\\xb0\\xe0a'\n",
      "{'key': 'key19', 'value': 'message #19', 'timestamp': 1679382647225}\n",
      "b'\\nkey19\\x16message #19\\xf2\\xc6\\x8c\\xb0\\xe0a'\n",
      "{'key': 'key20', 'value': 'message #20', 'timestamp': 1679382649232}\n",
      "b'\\nkey20\\x16message #20\\xa0\\xe6\\x8c\\xb0\\xe0a'\n",
      "{'key': 'key21', 'value': 'message #21', 'timestamp': 1679382651238}\n",
      "b'\\nkey21\\x16message #21\\xcc\\x85\\x8d\\xb0\\xe0a'\n",
      "{'key': 'key22', 'value': 'message #22', 'timestamp': 1679382653240}\n",
      "b'\\nkey22\\x16message #22\\xf0\\xa4\\x8d\\xb0\\xe0a'\n",
      "{'key': 'key23', 'value': 'message #23', 'timestamp': 1679382655245}\n",
      "b'\\nkey23\\x16message #23\\x9a\\xc4\\x8d\\xb0\\xe0a'\n",
      "{'key': 'key24', 'value': 'message #24', 'timestamp': 1679382657251}\n",
      "b'\\nkey24\\x16message #24\\xc6\\xe3\\x8d\\xb0\\xe0a'\n",
      "{'key': 'key25', 'value': 'message #25', 'timestamp': 1679382659256}\n",
      "b'\\nkey25\\x16message #25\\xf0\\x82\\x8e\\xb0\\xe0a'\n",
      "{'key': 'key26', 'value': 'message #26', 'timestamp': 1679382661261}\n",
      "b'\\nkey26\\x16message #26\\x9a\\xa2\\x8e\\xb0\\xe0a'\n",
      "{'key': 'key27', 'value': 'message #27', 'timestamp': 1679382663266}\n",
      "b'\\nkey27\\x16message #27\\xc4\\xc1\\x8e\\xb0\\xe0a'\n",
      "{'key': 'key28', 'value': 'message #28', 'timestamp': 1679382665270}\n",
      "b'\\nkey28\\x16message #28\\xec\\xe0\\x8e\\xb0\\xe0a'\n",
      "{'key': 'key29', 'value': 'message #29', 'timestamp': 1679382667276}\n",
      "b'\\nkey29\\x16message #29\\x98\\x80\\x8f\\xb0\\xe0a'\n",
      "{'key': 'key30', 'value': 'message #30', 'timestamp': 1679382669284}\n",
      "b'\\nkey30\\x16message #30\\xc8\\x9f\\x8f\\xb0\\xe0a'\n",
      "{'key': 'key31', 'value': 'message #31', 'timestamp': 1679382671291}\n",
      "b'\\nkey31\\x16message #31\\xf6\\xbe\\x8f\\xb0\\xe0a'\n"
     ]
    }
   ],
   "source": [
    "for i in range(100):\n",
    "    k = 'key{}'.format(i)\n",
    "    v = 'message #{}'.format(i)\n",
    "    o = {'key': k, 'value': v, 'timestamp': (int)(time.time()*1000)}\n",
    "    data = serialize(schema, o)\n",
    "    print(o)\n",
    "    print(data)\n",
    "    producer.send('avro', data)\n",
    "    time.sleep(2)"
   ]
  },
  {
   "cell_type": "code",
   "execution_count": null,
   "metadata": {},
   "outputs": [],
   "source": []
  }
 ],
 "metadata": {
  "kernelspec": {
   "display_name": "Python 3 (ipykernel)",
   "language": "python",
   "name": "python3"
  },
  "language_info": {
   "codemirror_mode": {
    "name": "ipython",
    "version": 3
   },
   "file_extension": ".py",
   "mimetype": "text/x-python",
   "name": "python",
   "nbconvert_exporter": "python",
   "pygments_lexer": "ipython3",
   "version": "3.9.13"
  },
  "toc": {
   "base_numbering": 1,
   "nav_menu": {},
   "number_sections": true,
   "sideBar": true,
   "skip_h1_title": false,
   "title_cell": "Table of Contents",
   "title_sidebar": "Contents",
   "toc_cell": false,
   "toc_position": {},
   "toc_section_display": true,
   "toc_window_display": false
  },
  "varInspector": {
   "cols": {
    "lenName": 16,
    "lenType": 16,
    "lenVar": 40
   },
   "kernels_config": {
    "python": {
     "delete_cmd_postfix": "",
     "delete_cmd_prefix": "del ",
     "library": "var_list.py",
     "varRefreshCmd": "print(var_dic_list())"
    },
    "r": {
     "delete_cmd_postfix": ") ",
     "delete_cmd_prefix": "rm(",
     "library": "var_list.r",
     "varRefreshCmd": "cat(var_dic_list()) "
    }
   },
   "types_to_exclude": [
    "module",
    "function",
    "builtin_function_or_method",
    "instance",
    "_Feature"
   ],
   "window_display": false
  }
 },
 "nbformat": 4,
 "nbformat_minor": 2
}
