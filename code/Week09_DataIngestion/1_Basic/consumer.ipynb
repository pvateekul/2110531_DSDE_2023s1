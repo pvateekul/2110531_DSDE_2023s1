{
 "cells": [
  {
   "cell_type": "code",
   "execution_count": 2,
   "metadata": {},
   "outputs": [],
   "source": [
    "# import required libraries\n",
    "from kafka import KafkaConsumer"
   ]
  },
  {
   "cell_type": "code",
   "execution_count": 3,
   "metadata": {},
   "outputs": [],
   "source": [
    "# Connect to kafka broker running in your local host (docker). Change this to your kafka broker if needed\n",
    "kafka_broker = 'localhost:9092'"
   ]
  },
  {
   "cell_type": "code",
   "execution_count": 4,
   "metadata": {},
   "outputs": [],
   "source": [
    "consumer = KafkaConsumer(\n",
    "    'sample',\n",
    "    bootstrap_servers=[kafka_broker],\n",
    "    enable_auto_commit=True,\n",
    "    value_deserializer=lambda x: x.decode('utf-8'))"
   ]
  },
  {
   "cell_type": "code",
   "execution_count": null,
   "metadata": {
    "scrolled": false
   },
   "outputs": [
    {
     "name": "stdout",
     "output_type": "stream",
     "text": [
      "Running Consumer\n",
      "[1679380839942:169] message #0 from producer-0\n",
      "[1679380841945:170] message #1 from producer-0\n",
      "[1679380843947:171] message #2 from producer-0\n",
      "[1679380845950:172] message #3 from producer-0\n",
      "[1679380847955:173] message #4 from producer-0\n",
      "[1679380849959:174] message #5 from producer-0\n",
      "[1679380851965:175] message #6 from producer-0\n",
      "[1679380853965:176] message #7 from producer-0\n",
      "[1679380855971:177] message #8 from producer-0\n",
      "[1679380857975:178] message #9 from producer-0\n",
      "[1679380859980:179] message #10 from producer-0\n",
      "[1679380861982:180] message #11 from producer-0\n",
      "[1679380863985:181] message #12 from producer-0\n",
      "[1679380865989:182] message #13 from producer-0\n",
      "[1679380867995:183] message #14 from producer-0\n",
      "[1679380869998:184] message #15 from producer-0\n",
      "[1679380872002:185] message #16 from producer-0\n",
      "[1679380874006:186] message #17 from producer-0\n",
      "[1679380876010:187] message #18 from producer-0\n",
      "[1679380878015:188] message #19 from producer-0\n",
      "[1679380880019:189] message #20 from producer-0\n",
      "[1679380882024:190] message #21 from producer-0\n",
      "[1679380884028:191] message #22 from producer-0\n",
      "[1679380886033:192] message #23 from producer-0\n",
      "[1679380888037:193] message #24 from producer-0\n",
      "[1679380890041:194] message #25 from producer-0\n",
      "[1679380892046:195] message #26 from producer-0\n",
      "[1679380894049:196] message #27 from producer-0\n",
      "[1679380896054:197] message #28 from producer-0\n",
      "[1679380898060:198] message #29 from producer-0\n",
      "[1679380900064:199] message #30 from producer-0\n",
      "[1679380902065:200] message #31 from producer-0\n",
      "[1679380904071:201] message #32 from producer-0\n",
      "[1679380906075:202] message #33 from producer-0\n",
      "[1679380908078:203] message #34 from producer-0\n",
      "[1679380910080:204] message #35 from producer-0\n",
      "[1679380912085:205] message #36 from producer-0\n",
      "[1679380914089:206] message #37 from producer-0\n",
      "[1679380916094:207] message #38 from producer-0\n",
      "[1679380916952:208] message #0 from another producer\n",
      "[1679380918098:209] message #39 from producer-0\n",
      "[1679380919958:210] message #1 from another producer\n",
      "[1679380920103:211] message #40 from producer-0\n",
      "[1679380922108:212] message #41 from producer-0\n",
      "[1679380922961:213] message #2 from another producer\n",
      "[1679380924113:214] message #42 from producer-0\n",
      "[1679380925966:215] message #3 from another producer\n",
      "[1679380926117:216] message #43 from producer-0\n",
      "[1679380928120:217] message #44 from producer-0\n",
      "[1679380928969:218] message #4 from another producer\n",
      "[1679380930125:219] message #45 from producer-0\n",
      "[1679380931974:220] message #5 from another producer\n",
      "[1679380932130:221] message #46 from producer-0\n",
      "[1679380934135:222] message #47 from producer-0\n",
      "[1679380934979:223] message #6 from another producer\n",
      "[1679380936138:224] message #48 from producer-0\n",
      "[1679380937981:225] message #7 from another producer\n",
      "[1679380938141:226] message #49 from producer-0\n",
      "[1679380940146:227] message #50 from producer-0\n",
      "[1679380940988:228] message #8 from another producer\n",
      "[1679380942148:229] message #51 from producer-0\n",
      "[1679380943992:230] message #9 from another producer\n",
      "[1679380944151:231] message #52 from producer-0\n",
      "[1679380946156:232] message #53 from producer-0\n",
      "[1679380946996:233] message #10 from another producer\n",
      "[1679380948161:234] message #54 from producer-0\n",
      "[1679380950000:235] message #11 from another producer\n",
      "[1679380950165:236] message #55 from producer-0\n",
      "[1679380952169:237] message #56 from producer-0\n",
      "[1679380953005:238] message #12 from another producer\n",
      "[1679380954171:239] message #57 from producer-0\n",
      "[1679380956011:240] message #13 from another producer\n",
      "[1679380956175:241] message #58 from producer-0\n",
      "[1679380958180:242] message #59 from producer-0\n",
      "[1679380959012:243] message #14 from another producer\n",
      "[1679380960183:244] message #60 from producer-0\n",
      "[1679380962015:245] message #15 from another producer\n",
      "[1679380962186:246] message #61 from producer-0\n",
      "[1679380964189:247] message #62 from producer-0\n",
      "[1679380965021:248] message #16 from another producer\n",
      "[1679380966191:249] message #63 from producer-0\n",
      "[1679380968027:250] message #17 from another producer\n",
      "[1679380968194:251] message #64 from producer-0\n",
      "[1679380970196:252] message #65 from producer-0\n",
      "[1679380971032:253] message #18 from another producer\n",
      "[1679380972200:254] message #66 from producer-0\n",
      "[1679380974034:255] message #19 from another producer\n",
      "[1679380974205:256] message #67 from producer-0\n",
      "[1679380976210:257] message #68 from producer-0\n",
      "[1679380977040:258] message #20 from another producer\n",
      "[1679380978212:259] message #69 from producer-0\n",
      "[1679380980045:260] message #21 from another producer\n",
      "[1679380980218:261] message #70 from producer-0\n",
      "[1679380982221:262] message #71 from producer-0\n",
      "[1679380983051:263] message #22 from another producer\n",
      "[1679380984226:264] message #72 from producer-0\n",
      "[1679380986056:265] message #23 from another producer\n",
      "[1679380986228:266] message #73 from producer-0\n",
      "[1679380988233:267] message #74 from producer-0\n",
      "[1679380989061:268] message #24 from another producer\n",
      "[1679380990238:269] message #75 from producer-0\n",
      "[1679380992065:270] message #25 from another producer\n",
      "[1679380992242:271] message #76 from producer-0\n",
      "[1679380994246:272] message #77 from producer-0\n",
      "[1679380995070:273] message #26 from another producer\n",
      "[1679380996248:274] message #78 from producer-0\n",
      "[1679380998075:275] message #27 from another producer\n",
      "[1679380998252:276] message #79 from producer-0\n",
      "[1679381000259:277] message #80 from producer-0\n",
      "[1679381001080:278] message #28 from another producer\n",
      "[1679381002263:279] message #81 from producer-0\n",
      "[1679381004085:280] message #29 from another producer\n",
      "[1679381004269:281] message #82 from producer-0\n",
      "[1679381006272:282] message #83 from producer-0\n",
      "[1679381007089:283] message #30 from another producer\n",
      "[1679381008274:284] message #84 from producer-0\n",
      "[1679381010092:285] message #31 from another producer\n",
      "[1679381010278:286] message #85 from producer-0\n",
      "[1679381012281:287] message #86 from producer-0\n",
      "[1679381013098:288] message #32 from another producer\n",
      "[1679381014286:289] message #87 from producer-0\n",
      "[1679381016103:290] message #33 from another producer\n",
      "[1679381016291:291] message #88 from producer-0\n",
      "[1679381018295:292] message #89 from producer-0\n",
      "[1679381019106:293] message #34 from another producer\n",
      "[1679381020300:294] message #90 from producer-0\n"
     ]
    }
   ],
   "source": [
    "print('Running Consumer')\n",
    "for message in consumer:\n",
    "    print('[{}:{}] {}'.format(message.timestamp, message.offset, message.value))"
   ]
  },
  {
   "cell_type": "code",
   "execution_count": null,
   "metadata": {},
   "outputs": [],
   "source": []
  },
  {
   "cell_type": "code",
   "execution_count": null,
   "metadata": {},
   "outputs": [],
   "source": []
  }
 ],
 "metadata": {
  "kernelspec": {
   "display_name": "Python 3 (ipykernel)",
   "language": "python",
   "name": "python3"
  },
  "language_info": {
   "codemirror_mode": {
    "name": "ipython",
    "version": 3
   },
   "file_extension": ".py",
   "mimetype": "text/x-python",
   "name": "python",
   "nbconvert_exporter": "python",
   "pygments_lexer": "ipython3",
   "version": "3.9.13"
  },
  "toc": {
   "base_numbering": 1,
   "nav_menu": {},
   "number_sections": true,
   "sideBar": true,
   "skip_h1_title": false,
   "title_cell": "Table of Contents",
   "title_sidebar": "Contents",
   "toc_cell": false,
   "toc_position": {},
   "toc_section_display": true,
   "toc_window_display": false
  },
  "varInspector": {
   "cols": {
    "lenName": 16,
    "lenType": 16,
    "lenVar": 40
   },
   "kernels_config": {
    "python": {
     "delete_cmd_postfix": "",
     "delete_cmd_prefix": "del ",
     "library": "var_list.py",
     "varRefreshCmd": "print(var_dic_list())"
    },
    "r": {
     "delete_cmd_postfix": ") ",
     "delete_cmd_prefix": "rm(",
     "library": "var_list.r",
     "varRefreshCmd": "cat(var_dic_list()) "
    }
   },
   "types_to_exclude": [
    "module",
    "function",
    "builtin_function_or_method",
    "instance",
    "_Feature"
   ],
   "window_display": false
  }
 },
 "nbformat": 4,
 "nbformat_minor": 2
}
