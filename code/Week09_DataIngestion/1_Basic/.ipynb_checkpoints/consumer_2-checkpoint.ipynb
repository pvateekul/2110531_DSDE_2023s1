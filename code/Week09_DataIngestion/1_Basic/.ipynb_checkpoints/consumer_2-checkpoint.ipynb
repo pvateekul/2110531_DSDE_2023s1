{
 "cells": [
  {
   "cell_type": "code",
   "execution_count": 1,
   "metadata": {},
   "outputs": [],
   "source": [
    "# import required libraries\n",
    "from kafka import KafkaConsumer"
   ]
  },
  {
   "cell_type": "code",
   "execution_count": 2,
   "metadata": {},
   "outputs": [],
   "source": [
    "# Connect to kafka broker running in your local host (docker). Change this to your kafka broker if needed\n",
    "kafka_broker = 'localhost:9092'"
   ]
  },
  {
   "cell_type": "code",
   "execution_count": 3,
   "metadata": {},
   "outputs": [],
   "source": [
    "consumer = KafkaConsumer(\n",
    "     bootstrap_servers=[kafka_broker],\n",
    "     enable_auto_commit=True,\n",
    "     value_deserializer=lambda x: x.decode('utf-8'))"
   ]
  },
  {
   "cell_type": "code",
   "execution_count": 4,
   "metadata": {},
   "outputs": [],
   "source": [
    "consumer.subscribe('sample')"
   ]
  },
  {
   "cell_type": "code",
   "execution_count": null,
   "metadata": {
    "scrolled": true
   },
   "outputs": [
    {
     "name": "stdout",
     "output_type": "stream",
     "text": [
      "Running Consumer #2\n",
      "topic = sample -- total 1 messages\n",
      "-----\n",
      "ConsumerRecord(topic='sample', partition=0, offset=188, timestamp=1679380878015, timestamp_type=0, key=None, value='message #19 from producer-0', headers=[], checksum=None, serialized_key_size=-1, serialized_value_size=27, serialized_header_size=-1)\n",
      "######################\n",
      "no message\n",
      "######################\n",
      "topic = sample -- total 1 messages\n",
      "-----\n",
      "ConsumerRecord(topic='sample', partition=0, offset=189, timestamp=1679380880019, timestamp_type=0, key=None, value='message #20 from producer-0', headers=[], checksum=None, serialized_key_size=-1, serialized_value_size=27, serialized_header_size=-1)\n",
      "######################\n",
      "no message\n",
      "######################\n",
      "no message\n",
      "######################\n",
      "topic = sample -- total 1 messages\n",
      "-----\n",
      "ConsumerRecord(topic='sample', partition=0, offset=190, timestamp=1679380882024, timestamp_type=0, key=None, value='message #21 from producer-0', headers=[], checksum=None, serialized_key_size=-1, serialized_value_size=27, serialized_header_size=-1)\n",
      "######################\n",
      "no message\n",
      "######################\n",
      "topic = sample -- total 1 messages\n",
      "-----\n",
      "ConsumerRecord(topic='sample', partition=0, offset=191, timestamp=1679380884028, timestamp_type=0, key=None, value='message #22 from producer-0', headers=[], checksum=None, serialized_key_size=-1, serialized_value_size=27, serialized_header_size=-1)\n",
      "######################\n",
      "no message\n",
      "######################\n",
      "no message\n",
      "######################\n",
      "topic = sample -- total 1 messages\n",
      "-----\n",
      "ConsumerRecord(topic='sample', partition=0, offset=192, timestamp=1679380886033, timestamp_type=0, key=None, value='message #23 from producer-0', headers=[], checksum=None, serialized_key_size=-1, serialized_value_size=27, serialized_header_size=-1)\n",
      "######################\n",
      "no message\n",
      "######################\n",
      "topic = sample -- total 1 messages\n",
      "-----\n",
      "ConsumerRecord(topic='sample', partition=0, offset=193, timestamp=1679380888037, timestamp_type=0, key=None, value='message #24 from producer-0', headers=[], checksum=None, serialized_key_size=-1, serialized_value_size=27, serialized_header_size=-1)\n",
      "######################\n",
      "no message\n",
      "######################\n",
      "no message\n",
      "######################\n",
      "topic = sample -- total 1 messages\n",
      "-----\n",
      "ConsumerRecord(topic='sample', partition=0, offset=194, timestamp=1679380890041, timestamp_type=0, key=None, value='message #25 from producer-0', headers=[], checksum=None, serialized_key_size=-1, serialized_value_size=27, serialized_header_size=-1)\n",
      "######################\n",
      "no message\n",
      "######################\n",
      "no message\n",
      "######################\n",
      "topic = sample -- total 1 messages\n",
      "-----\n",
      "ConsumerRecord(topic='sample', partition=0, offset=195, timestamp=1679380892046, timestamp_type=0, key=None, value='message #26 from producer-0', headers=[], checksum=None, serialized_key_size=-1, serialized_value_size=27, serialized_header_size=-1)\n",
      "######################\n",
      "no message\n",
      "######################\n",
      "topic = sample -- total 1 messages\n",
      "-----\n",
      "ConsumerRecord(topic='sample', partition=0, offset=196, timestamp=1679380894049, timestamp_type=0, key=None, value='message #27 from producer-0', headers=[], checksum=None, serialized_key_size=-1, serialized_value_size=27, serialized_header_size=-1)\n",
      "######################\n",
      "no message\n",
      "######################\n",
      "topic = sample -- total 1 messages\n",
      "-----\n",
      "ConsumerRecord(topic='sample', partition=0, offset=197, timestamp=1679380896054, timestamp_type=0, key=None, value='message #28 from producer-0', headers=[], checksum=None, serialized_key_size=-1, serialized_value_size=27, serialized_header_size=-1)\n",
      "######################\n",
      "no message\n",
      "######################\n",
      "no message\n",
      "######################\n",
      "topic = sample -- total 1 messages\n",
      "-----\n",
      "ConsumerRecord(topic='sample', partition=0, offset=198, timestamp=1679380898060, timestamp_type=0, key=None, value='message #29 from producer-0', headers=[], checksum=None, serialized_key_size=-1, serialized_value_size=27, serialized_header_size=-1)\n",
      "######################\n",
      "no message\n",
      "######################\n",
      "topic = sample -- total 1 messages\n",
      "-----\n",
      "ConsumerRecord(topic='sample', partition=0, offset=199, timestamp=1679380900064, timestamp_type=0, key=None, value='message #30 from producer-0', headers=[], checksum=None, serialized_key_size=-1, serialized_value_size=27, serialized_header_size=-1)\n",
      "######################\n",
      "no message\n",
      "######################\n",
      "topic = sample -- total 1 messages\n",
      "-----\n",
      "ConsumerRecord(topic='sample', partition=0, offset=200, timestamp=1679380902065, timestamp_type=0, key=None, value='message #31 from producer-0', headers=[], checksum=None, serialized_key_size=-1, serialized_value_size=27, serialized_header_size=-1)\n",
      "######################\n",
      "no message\n",
      "######################\n",
      "no message\n",
      "######################\n",
      "topic = sample -- total 1 messages\n",
      "-----\n",
      "ConsumerRecord(topic='sample', partition=0, offset=201, timestamp=1679380904071, timestamp_type=0, key=None, value='message #32 from producer-0', headers=[], checksum=None, serialized_key_size=-1, serialized_value_size=27, serialized_header_size=-1)\n",
      "######################\n",
      "no message\n",
      "######################\n",
      "no message\n",
      "######################\n",
      "topic = sample -- total 1 messages\n",
      "-----\n",
      "ConsumerRecord(topic='sample', partition=0, offset=202, timestamp=1679380906075, timestamp_type=0, key=None, value='message #33 from producer-0', headers=[], checksum=None, serialized_key_size=-1, serialized_value_size=27, serialized_header_size=-1)\n",
      "######################\n",
      "no message\n",
      "######################\n",
      "topic = sample -- total 1 messages\n",
      "-----\n",
      "ConsumerRecord(topic='sample', partition=0, offset=203, timestamp=1679380908078, timestamp_type=0, key=None, value='message #34 from producer-0', headers=[], checksum=None, serialized_key_size=-1, serialized_value_size=27, serialized_header_size=-1)\n",
      "######################\n",
      "no message\n",
      "######################\n",
      "topic = sample -- total 1 messages\n",
      "-----\n",
      "ConsumerRecord(topic='sample', partition=0, offset=204, timestamp=1679380910080, timestamp_type=0, key=None, value='message #35 from producer-0', headers=[], checksum=None, serialized_key_size=-1, serialized_value_size=27, serialized_header_size=-1)\n",
      "######################\n",
      "no message\n",
      "######################\n",
      "no message\n",
      "######################\n",
      "topic = sample -- total 1 messages\n",
      "-----\n",
      "ConsumerRecord(topic='sample', partition=0, offset=205, timestamp=1679380912085, timestamp_type=0, key=None, value='message #36 from producer-0', headers=[], checksum=None, serialized_key_size=-1, serialized_value_size=27, serialized_header_size=-1)\n",
      "######################\n",
      "no message\n",
      "######################\n",
      "topic = sample -- total 1 messages\n",
      "-----\n",
      "ConsumerRecord(topic='sample', partition=0, offset=206, timestamp=1679380914089, timestamp_type=0, key=None, value='message #37 from producer-0', headers=[], checksum=None, serialized_key_size=-1, serialized_value_size=27, serialized_header_size=-1)\n",
      "######################\n",
      "no message\n",
      "######################\n",
      "topic = sample -- total 1 messages\n",
      "-----\n",
      "ConsumerRecord(topic='sample', partition=0, offset=207, timestamp=1679380916094, timestamp_type=0, key=None, value='message #38 from producer-0', headers=[], checksum=None, serialized_key_size=-1, serialized_value_size=27, serialized_header_size=-1)\n",
      "######################\n"
     ]
    }
   ],
   "source": [
    "print('Running Consumer #2')\n",
    "while(True):\n",
    "    results = consumer.poll(timeout_ms=1000)\n",
    "    if len(results) == 0:\n",
    "        print('no message')\n",
    "    else:\n",
    "        for tp, messages in results.items():\n",
    "            print('topic = {} -- total {} messages'.format(tp.topic, len(messages)))\n",
    "            print('-----')\n",
    "            for message in messages:\n",
    "                print(message)\n",
    "    print('######################')"
   ]
  },
  {
   "cell_type": "code",
   "execution_count": null,
   "metadata": {},
   "outputs": [],
   "source": []
  },
  {
   "cell_type": "code",
   "execution_count": null,
   "metadata": {},
   "outputs": [],
   "source": []
  }
 ],
 "metadata": {
  "kernelspec": {
   "display_name": "Python 3 (ipykernel)",
   "language": "python",
   "name": "python3"
  },
  "language_info": {
   "codemirror_mode": {
    "name": "ipython",
    "version": 3
   },
   "file_extension": ".py",
   "mimetype": "text/x-python",
   "name": "python",
   "nbconvert_exporter": "python",
   "pygments_lexer": "ipython3",
   "version": "3.9.13"
  },
  "toc": {
   "base_numbering": 1,
   "nav_menu": {},
   "number_sections": true,
   "sideBar": true,
   "skip_h1_title": false,
   "title_cell": "Table of Contents",
   "title_sidebar": "Contents",
   "toc_cell": false,
   "toc_position": {},
   "toc_section_display": true,
   "toc_window_display": false
  },
  "varInspector": {
   "cols": {
    "lenName": 16,
    "lenType": 16,
    "lenVar": 40
   },
   "kernels_config": {
    "python": {
     "delete_cmd_postfix": "",
     "delete_cmd_prefix": "del ",
     "library": "var_list.py",
     "varRefreshCmd": "print(var_dic_list())"
    },
    "r": {
     "delete_cmd_postfix": ") ",
     "delete_cmd_prefix": "rm(",
     "library": "var_list.r",
     "varRefreshCmd": "cat(var_dic_list()) "
    }
   },
   "types_to_exclude": [
    "module",
    "function",
    "builtin_function_or_method",
    "instance",
    "_Feature"
   ],
   "window_display": false
  }
 },
 "nbformat": 4,
 "nbformat_minor": 2
}
