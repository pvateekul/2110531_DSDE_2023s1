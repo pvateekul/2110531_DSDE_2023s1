{
 "cells": [
  {
   "cell_type": "code",
   "execution_count": 2,
   "metadata": {},
   "outputs": [],
   "source": [
    "# import required libraries\n",
    "from kafka import KafkaConsumer"
   ]
  },
  {
   "cell_type": "code",
   "execution_count": 3,
   "metadata": {},
   "outputs": [],
   "source": [
    "# Connect to kafka broker running in your local host (docker). Change this to your kafka broker if needed\n",
    "kafka_broker = 'localhost:9092'"
   ]
  },
  {
   "cell_type": "code",
   "execution_count": 4,
   "metadata": {},
   "outputs": [],
   "source": [
    "consumer = KafkaConsumer(\n",
    "    'sample',\n",
    "    bootstrap_servers=[kafka_broker],\n",
    "    enable_auto_commit=True,\n",
    "    value_deserializer=lambda x: x.decode('utf-8'))"
   ]
  },
  {
   "cell_type": "code",
   "execution_count": null,
   "metadata": {
    "scrolled": false
   },
   "outputs": [
    {
     "name": "stdout",
     "output_type": "stream",
     "text": [
      "Running Consumer\n",
      "[1679380839942:169] message #0 from producer-0\n",
      "[1679380841945:170] message #1 from producer-0\n",
      "[1679380843947:171] message #2 from producer-0\n",
      "[1679380845950:172] message #3 from producer-0\n",
      "[1679380847955:173] message #4 from producer-0\n",
      "[1679380849959:174] message #5 from producer-0\n",
      "[1679380851965:175] message #6 from producer-0\n",
      "[1679380853965:176] message #7 from producer-0\n",
      "[1679380855971:177] message #8 from producer-0\n",
      "[1679380857975:178] message #9 from producer-0\n",
      "[1679380859980:179] message #10 from producer-0\n",
      "[1679380861982:180] message #11 from producer-0\n",
      "[1679380863985:181] message #12 from producer-0\n",
      "[1679380865989:182] message #13 from producer-0\n",
      "[1679380867995:183] message #14 from producer-0\n",
      "[1679380869998:184] message #15 from producer-0\n",
      "[1679380872002:185] message #16 from producer-0\n",
      "[1679380874006:186] message #17 from producer-0\n",
      "[1679380876010:187] message #18 from producer-0\n",
      "[1679380878015:188] message #19 from producer-0\n",
      "[1679380880019:189] message #20 from producer-0\n",
      "[1679380882024:190] message #21 from producer-0\n",
      "[1679380884028:191] message #22 from producer-0\n",
      "[1679380886033:192] message #23 from producer-0\n",
      "[1679380888037:193] message #24 from producer-0\n",
      "[1679380890041:194] message #25 from producer-0\n",
      "[1679380892046:195] message #26 from producer-0\n",
      "[1679380894049:196] message #27 from producer-0\n",
      "[1679380896054:197] message #28 from producer-0\n",
      "[1679380898060:198] message #29 from producer-0\n",
      "[1679380900064:199] message #30 from producer-0\n",
      "[1679380902065:200] message #31 from producer-0\n",
      "[1679380904071:201] message #32 from producer-0\n",
      "[1679380906075:202] message #33 from producer-0\n",
      "[1679380908078:203] message #34 from producer-0\n",
      "[1679380910080:204] message #35 from producer-0\n"
     ]
    }
   ],
   "source": [
    "print('Running Consumer')\n",
    "for message in consumer:\n",
    "    print('[{}:{}] {}'.format(message.timestamp, message.offset, message.value))"
   ]
  },
  {
   "cell_type": "code",
   "execution_count": null,
   "metadata": {},
   "outputs": [],
   "source": []
  },
  {
   "cell_type": "code",
   "execution_count": null,
   "metadata": {},
   "outputs": [],
   "source": []
  }
 ],
 "metadata": {
  "kernelspec": {
   "display_name": "Python 3 (ipykernel)",
   "language": "python",
   "name": "python3"
  },
  "language_info": {
   "codemirror_mode": {
    "name": "ipython",
    "version": 3
   },
   "file_extension": ".py",
   "mimetype": "text/x-python",
   "name": "python",
   "nbconvert_exporter": "python",
   "pygments_lexer": "ipython3",
   "version": "3.9.13"
  },
  "toc": {
   "base_numbering": 1,
   "nav_menu": {},
   "number_sections": true,
   "sideBar": true,
   "skip_h1_title": false,
   "title_cell": "Table of Contents",
   "title_sidebar": "Contents",
   "toc_cell": false,
   "toc_position": {},
   "toc_section_display": true,
   "toc_window_display": false
  },
  "varInspector": {
   "cols": {
    "lenName": 16,
    "lenType": 16,
    "lenVar": 40
   },
   "kernels_config": {
    "python": {
     "delete_cmd_postfix": "",
     "delete_cmd_prefix": "del ",
     "library": "var_list.py",
     "varRefreshCmd": "print(var_dic_list())"
    },
    "r": {
     "delete_cmd_postfix": ") ",
     "delete_cmd_prefix": "rm(",
     "library": "var_list.r",
     "varRefreshCmd": "cat(var_dic_list()) "
    }
   },
   "types_to_exclude": [
    "module",
    "function",
    "builtin_function_or_method",
    "instance",
    "_Feature"
   ],
   "window_display": false
  }
 },
 "nbformat": 4,
 "nbformat_minor": 2
}
