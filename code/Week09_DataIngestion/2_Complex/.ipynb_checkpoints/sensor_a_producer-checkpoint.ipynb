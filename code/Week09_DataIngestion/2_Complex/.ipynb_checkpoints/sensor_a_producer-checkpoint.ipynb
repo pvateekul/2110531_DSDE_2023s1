{
 "cells": [
  {
   "cell_type": "code",
   "execution_count": 1,
   "metadata": {
    "scrolled": true
   },
   "outputs": [],
   "source": [
    "# import required libraries\n",
    "from kafka import KafkaProducer\n",
    "import time, random, json"
   ]
  },
  {
   "cell_type": "code",
   "execution_count": 2,
   "metadata": {},
   "outputs": [],
   "source": [
    "sensor_id = 'sensor-A'"
   ]
  },
  {
   "cell_type": "code",
   "execution_count": 3,
   "metadata": {},
   "outputs": [],
   "source": [
    "# Connect to kafka broker running in your local host (docker). Change this to your kafka broker if needed\n",
    "kafka_broker = 'localhost:9092'\n",
    "topic = 'data'"
   ]
  },
  {
   "cell_type": "code",
   "execution_count": 4,
   "metadata": {},
   "outputs": [],
   "source": [
    "producer = KafkaProducer(bootstrap_servers=[kafka_broker])"
   ]
  },
  {
   "cell_type": "code",
   "execution_count": 5,
   "metadata": {},
   "outputs": [
    {
     "name": "stdout",
     "output_type": "stream",
     "text": [
      "{\"id\": \"sensor-A\", \"timestamp\": 1679381427, \"value\": 17}\n",
      "{\"id\": \"sensor-A\", \"timestamp\": 1679381430, \"value\": 30}\n",
      "{\"id\": \"sensor-A\", \"timestamp\": 1679381433, \"value\": 13}\n",
      "{\"id\": \"sensor-A\", \"timestamp\": 1679381435, \"value\": 12}\n",
      "{\"id\": \"sensor-A\", \"timestamp\": 1679381437, \"value\": 14}\n",
      "{\"id\": \"sensor-A\", \"timestamp\": 1679381440, \"value\": 40}\n",
      "{\"id\": \"sensor-A\", \"timestamp\": 1679381444, \"value\": 13}\n",
      "{\"id\": \"sensor-A\", \"timestamp\": 1679381446, \"value\": 16}\n",
      "{\"id\": \"sensor-A\", \"timestamp\": 1679381449, \"value\": 38}\n",
      "{\"id\": \"sensor-A\", \"timestamp\": 1679381453, \"value\": 11}\n",
      "{\"id\": \"sensor-A\", \"timestamp\": 1679381457, \"value\": 31}\n",
      "{\"id\": \"sensor-A\", \"timestamp\": 1679381460, \"value\": 25}\n",
      "{\"id\": \"sensor-A\", \"timestamp\": 1679381463, \"value\": 13}\n",
      "{\"id\": \"sensor-A\", \"timestamp\": 1679381466, \"value\": 15}\n",
      "{\"id\": \"sensor-A\", \"timestamp\": 1679381469, \"value\": 18}\n",
      "{\"id\": \"sensor-A\", \"timestamp\": 1679381472, \"value\": 36}\n",
      "{\"id\": \"sensor-A\", \"timestamp\": 1679381475, \"value\": 21}\n",
      "{\"id\": \"sensor-A\", \"timestamp\": 1679381477, \"value\": 12}\n",
      "{\"id\": \"sensor-A\", \"timestamp\": 1679381481, \"value\": 20}\n",
      "{\"id\": \"sensor-A\", \"timestamp\": 1679381483, \"value\": 19}\n",
      "{\"id\": \"sensor-A\", \"timestamp\": 1679381486, \"value\": 33}\n",
      "{\"id\": \"sensor-A\", \"timestamp\": 1679381490, \"value\": 19}\n",
      "{\"id\": \"sensor-A\", \"timestamp\": 1679381492, \"value\": 22}\n",
      "{\"id\": \"sensor-A\", \"timestamp\": 1679381495, \"value\": 31}\n",
      "{\"id\": \"sensor-A\", \"timestamp\": 1679381499, \"value\": 27}\n",
      "{\"id\": \"sensor-A\", \"timestamp\": 1679381503, \"value\": 33}\n",
      "{\"id\": \"sensor-A\", \"timestamp\": 1679381507, \"value\": 18}\n",
      "{\"id\": \"sensor-A\", \"timestamp\": 1679381511, \"value\": 15}\n",
      "{\"id\": \"sensor-A\", \"timestamp\": 1679381514, \"value\": 38}\n",
      "{\"id\": \"sensor-A\", \"timestamp\": 1679381517, \"value\": 40}\n",
      "{\"id\": \"sensor-A\", \"timestamp\": 1679381521, \"value\": 19}\n",
      "{\"id\": \"sensor-A\", \"timestamp\": 1679381523, \"value\": 17}\n",
      "{\"id\": \"sensor-A\", \"timestamp\": 1679381527, \"value\": 26}\n",
      "{\"id\": \"sensor-A\", \"timestamp\": 1679381530, \"value\": 29}\n",
      "{\"id\": \"sensor-A\", \"timestamp\": 1679381532, \"value\": 17}\n",
      "{\"id\": \"sensor-A\", \"timestamp\": 1679381536, \"value\": 26}\n"
     ]
    },
    {
     "ename": "KeyboardInterrupt",
     "evalue": "",
     "output_type": "error",
     "traceback": [
      "\u001b[0;31m---------------------------------------------------------------------------\u001b[0m",
      "\u001b[0;31mKeyboardInterrupt\u001b[0m                         Traceback (most recent call last)",
      "Input \u001b[0;32mIn [5]\u001b[0m, in \u001b[0;36m<cell line: 2>\u001b[0;34m()\u001b[0m\n\u001b[1;32m     11\u001b[0m producer\u001b[38;5;241m.\u001b[39msend(topic, s\u001b[38;5;241m.\u001b[39mencode(\u001b[38;5;124m'\u001b[39m\u001b[38;5;124mutf-8\u001b[39m\u001b[38;5;124m'\u001b[39m))\n\u001b[1;32m     12\u001b[0m time_to_sleep \u001b[38;5;241m=\u001b[39m \u001b[38;5;28mround\u001b[39m(random\u001b[38;5;241m.\u001b[39muniform(\u001b[38;5;241m2\u001b[39m,\u001b[38;5;241m4\u001b[39m))\n\u001b[0;32m---> 13\u001b[0m \u001b[43mtime\u001b[49m\u001b[38;5;241;43m.\u001b[39;49m\u001b[43msleep\u001b[49m\u001b[43m(\u001b[49m\u001b[43mtime_to_sleep\u001b[49m\u001b[43m)\u001b[49m\n",
      "\u001b[0;31mKeyboardInterrupt\u001b[0m: "
     ]
    }
   ],
   "source": [
    "while(True):\n",
    "    ts = round(time.time())\n",
    "    value = round(random.uniform(10, 40))\n",
    "    data = {\n",
    "        'id': sensor_id,\n",
    "        'timestamp': ts,\n",
    "        'value': value\n",
    "    }\n",
    "    s = json.dumps(data)\n",
    "    print(s)\n",
    "    producer.send(topic, s.encode('utf-8'))\n",
    "    time_to_sleep = round(random.uniform(2,4))\n",
    "    time.sleep(time_to_sleep)"
   ]
  },
  {
   "cell_type": "code",
   "execution_count": null,
   "metadata": {},
   "outputs": [],
   "source": []
  }
 ],
 "metadata": {
  "kernelspec": {
   "display_name": "Python 3 (ipykernel)",
   "language": "python",
   "name": "python3"
  },
  "language_info": {
   "codemirror_mode": {
    "name": "ipython",
    "version": 3
   },
   "file_extension": ".py",
   "mimetype": "text/x-python",
   "name": "python",
   "nbconvert_exporter": "python",
   "pygments_lexer": "ipython3",
   "version": "3.9.13"
  },
  "toc": {
   "base_numbering": 1,
   "nav_menu": {},
   "number_sections": true,
   "sideBar": true,
   "skip_h1_title": false,
   "title_cell": "Table of Contents",
   "title_sidebar": "Contents",
   "toc_cell": false,
   "toc_position": {},
   "toc_section_display": true,
   "toc_window_display": false
  },
  "varInspector": {
   "cols": {
    "lenName": 16,
    "lenType": 16,
    "lenVar": 40
   },
   "kernels_config": {
    "python": {
     "delete_cmd_postfix": "",
     "delete_cmd_prefix": "del ",
     "library": "var_list.py",
     "varRefreshCmd": "print(var_dic_list())"
    },
    "r": {
     "delete_cmd_postfix": ") ",
     "delete_cmd_prefix": "rm(",
     "library": "var_list.r",
     "varRefreshCmd": "cat(var_dic_list()) "
    }
   },
   "types_to_exclude": [
    "module",
    "function",
    "builtin_function_or_method",
    "instance",
    "_Feature"
   ],
   "window_display": false
  }
 },
 "nbformat": 4,
 "nbformat_minor": 2
}
