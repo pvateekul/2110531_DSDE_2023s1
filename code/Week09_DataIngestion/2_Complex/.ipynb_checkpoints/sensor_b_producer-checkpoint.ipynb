{
 "cells": [
  {
   "cell_type": "code",
   "execution_count": 2,
   "metadata": {
    "scrolled": true
   },
   "outputs": [],
   "source": [
    "# import required libraries\n",
    "from kafka import KafkaProducer\n",
    "import time, random, json"
   ]
  },
  {
   "cell_type": "code",
   "execution_count": 3,
   "metadata": {},
   "outputs": [],
   "source": [
    "sensor_id = 'sensor-B'"
   ]
  },
  {
   "cell_type": "code",
   "execution_count": 4,
   "metadata": {},
   "outputs": [],
   "source": [
    "# Connect to kafka broker running in your local host (docker). Change this to your kafka broker if needed\n",
    "kafka_broker = 'localhost:9092'\n",
    "topic = 'data'"
   ]
  },
  {
   "cell_type": "code",
   "execution_count": 5,
   "metadata": {},
   "outputs": [],
   "source": [
    "producer = KafkaProducer(bootstrap_servers=[kafka_broker])"
   ]
  },
  {
   "cell_type": "code",
   "execution_count": 6,
   "metadata": {},
   "outputs": [
    {
     "name": "stdout",
     "output_type": "stream",
     "text": [
      "{\"id\": \"sensor-B\", \"timestamp\": 1679381437, \"value\": 32}\n",
      "{\"id\": \"sensor-B\", \"timestamp\": 1679381438, \"value\": 31}\n",
      "{\"id\": \"sensor-B\", \"timestamp\": 1679381439, \"value\": 32}\n",
      "{\"id\": \"sensor-B\", \"timestamp\": 1679381441, \"value\": 33}\n",
      "{\"id\": \"sensor-B\", \"timestamp\": 1679381442, \"value\": 28}\n",
      "{\"id\": \"sensor-B\", \"timestamp\": 1679381443, \"value\": 28}\n",
      "{\"id\": \"sensor-B\", \"timestamp\": 1679381444, \"value\": 29}\n",
      "{\"id\": \"sensor-B\", \"timestamp\": 1679381446, \"value\": 32}\n",
      "{\"id\": \"sensor-B\", \"timestamp\": 1679381449, \"value\": 30}\n",
      "{\"id\": \"sensor-B\", \"timestamp\": 1679381452, \"value\": 30}\n",
      "{\"id\": \"sensor-B\", \"timestamp\": 1679381454, \"value\": 33}\n",
      "{\"id\": \"sensor-B\", \"timestamp\": 1679381456, \"value\": 30}\n",
      "{\"id\": \"sensor-B\", \"timestamp\": 1679381460, \"value\": 30}\n",
      "{\"id\": \"sensor-B\", \"timestamp\": 1679381463, \"value\": 29}\n",
      "{\"id\": \"sensor-B\", \"timestamp\": 1679381465, \"value\": 28}\n",
      "{\"id\": \"sensor-B\", \"timestamp\": 1679381467, \"value\": 33}\n",
      "{\"id\": \"sensor-B\", \"timestamp\": 1679381469, \"value\": 29}\n",
      "{\"id\": \"sensor-B\", \"timestamp\": 1679381471, \"value\": 31}\n",
      "{\"id\": \"sensor-B\", \"timestamp\": 1679381474, \"value\": 31}\n",
      "{\"id\": \"sensor-B\", \"timestamp\": 1679381476, \"value\": 28}\n",
      "{\"id\": \"sensor-B\", \"timestamp\": 1679381478, \"value\": 27}\n",
      "{\"id\": \"sensor-B\", \"timestamp\": 1679381481, \"value\": 29}\n",
      "{\"id\": \"sensor-B\", \"timestamp\": 1679381482, \"value\": 31}\n",
      "{\"id\": \"sensor-B\", \"timestamp\": 1679381484, \"value\": 28}\n",
      "{\"id\": \"sensor-B\", \"timestamp\": 1679381486, \"value\": 30}\n",
      "{\"id\": \"sensor-B\", \"timestamp\": 1679381488, \"value\": 31}\n",
      "{\"id\": \"sensor-B\", \"timestamp\": 1679381491, \"value\": 30}\n",
      "{\"id\": \"sensor-B\", \"timestamp\": 1679381494, \"value\": 32}\n",
      "{\"id\": \"sensor-B\", \"timestamp\": 1679381496, \"value\": 31}\n",
      "{\"id\": \"sensor-B\", \"timestamp\": 1679381498, \"value\": 32}\n",
      "{\"id\": \"sensor-B\", \"timestamp\": 1679381500, \"value\": 29}\n",
      "{\"id\": \"sensor-B\", \"timestamp\": 1679381501, \"value\": 30}\n",
      "{\"id\": \"sensor-B\", \"timestamp\": 1679381504, \"value\": 29}\n",
      "{\"id\": \"sensor-B\", \"timestamp\": 1679381506, \"value\": 31}\n",
      "{\"id\": \"sensor-B\", \"timestamp\": 1679381508, \"value\": 28}\n",
      "{\"id\": \"sensor-B\", \"timestamp\": 1679381510, \"value\": 30}\n",
      "{\"id\": \"sensor-B\", \"timestamp\": 1679381513, \"value\": 31}\n",
      "{\"id\": \"sensor-B\", \"timestamp\": 1679381516, \"value\": 29}\n",
      "{\"id\": \"sensor-B\", \"timestamp\": 1679381518, \"value\": 30}\n",
      "{\"id\": \"sensor-B\", \"timestamp\": 1679381520, \"value\": 31}\n",
      "{\"id\": \"sensor-B\", \"timestamp\": 1679381521, \"value\": 30}\n",
      "{\"id\": \"sensor-B\", \"timestamp\": 1679381522, \"value\": 32}\n",
      "{\"id\": \"sensor-B\", \"timestamp\": 1679381524, \"value\": 30}\n",
      "{\"id\": \"sensor-B\", \"timestamp\": 1679381526, \"value\": 29}\n",
      "{\"id\": \"sensor-B\", \"timestamp\": 1679381528, \"value\": 32}\n",
      "{\"id\": \"sensor-B\", \"timestamp\": 1679381530, \"value\": 31}\n",
      "{\"id\": \"sensor-B\", \"timestamp\": 1679381532, \"value\": 32}\n",
      "{\"id\": \"sensor-B\", \"timestamp\": 1679381533, \"value\": 32}\n",
      "{\"id\": \"sensor-B\", \"timestamp\": 1679381536, \"value\": 27}\n",
      "{\"id\": \"sensor-B\", \"timestamp\": 1679381538, \"value\": 27}\n"
     ]
    },
    {
     "ename": "KeyboardInterrupt",
     "evalue": "",
     "output_type": "error",
     "traceback": [
      "\u001b[0;31m---------------------------------------------------------------------------\u001b[0m",
      "\u001b[0;31mKeyboardInterrupt\u001b[0m                         Traceback (most recent call last)",
      "Input \u001b[0;32mIn [6]\u001b[0m, in \u001b[0;36m<cell line: 2>\u001b[0;34m()\u001b[0m\n\u001b[1;32m     11\u001b[0m producer\u001b[38;5;241m.\u001b[39msend(topic, s\u001b[38;5;241m.\u001b[39mencode(\u001b[38;5;124m'\u001b[39m\u001b[38;5;124mutf-8\u001b[39m\u001b[38;5;124m'\u001b[39m))\n\u001b[1;32m     12\u001b[0m time_to_sleep \u001b[38;5;241m=\u001b[39m \u001b[38;5;28mround\u001b[39m(random\u001b[38;5;241m.\u001b[39muniform(\u001b[38;5;241m1\u001b[39m,\u001b[38;5;241m3\u001b[39m))\n\u001b[0;32m---> 13\u001b[0m \u001b[43mtime\u001b[49m\u001b[38;5;241;43m.\u001b[39;49m\u001b[43msleep\u001b[49m\u001b[43m(\u001b[49m\u001b[43mtime_to_sleep\u001b[49m\u001b[43m)\u001b[49m\n",
      "\u001b[0;31mKeyboardInterrupt\u001b[0m: "
     ]
    }
   ],
   "source": [
    "while(True):\n",
    "    ts = round(time.time())\n",
    "    value = round(random.uniform(27, 33))\n",
    "    data = {\n",
    "        'id': sensor_id,\n",
    "        'timestamp': ts,\n",
    "        'value': value\n",
    "    }\n",
    "    s = json.dumps(data)\n",
    "    print(s)\n",
    "    producer.send(topic, s.encode('utf-8'))\n",
    "    time_to_sleep = round(random.uniform(1,3))\n",
    "    time.sleep(time_to_sleep)"
   ]
  },
  {
   "cell_type": "code",
   "execution_count": null,
   "metadata": {},
   "outputs": [],
   "source": []
  }
 ],
 "metadata": {
  "kernelspec": {
   "display_name": "Python 3 (ipykernel)",
   "language": "python",
   "name": "python3"
  },
  "language_info": {
   "codemirror_mode": {
    "name": "ipython",
    "version": 3
   },
   "file_extension": ".py",
   "mimetype": "text/x-python",
   "name": "python",
   "nbconvert_exporter": "python",
   "pygments_lexer": "ipython3",
   "version": "3.9.13"
  },
  "toc": {
   "base_numbering": 1,
   "nav_menu": {},
   "number_sections": true,
   "sideBar": true,
   "skip_h1_title": false,
   "title_cell": "Table of Contents",
   "title_sidebar": "Contents",
   "toc_cell": false,
   "toc_position": {},
   "toc_section_display": true,
   "toc_window_display": false
  },
  "varInspector": {
   "cols": {
    "lenName": 16,
    "lenType": 16,
    "lenVar": 40
   },
   "kernels_config": {
    "python": {
     "delete_cmd_postfix": "",
     "delete_cmd_prefix": "del ",
     "library": "var_list.py",
     "varRefreshCmd": "print(var_dic_list())"
    },
    "r": {
     "delete_cmd_postfix": ") ",
     "delete_cmd_prefix": "rm(",
     "library": "var_list.r",
     "varRefreshCmd": "cat(var_dic_list()) "
    }
   },
   "types_to_exclude": [
    "module",
    "function",
    "builtin_function_or_method",
    "instance",
    "_Feature"
   ],
   "window_display": false
  }
 },
 "nbformat": 4,
 "nbformat_minor": 2
}
