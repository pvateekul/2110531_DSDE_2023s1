{
 "cells": [
  {
   "cell_type": "code",
   "execution_count": 1,
   "metadata": {},
   "outputs": [],
   "source": [
    "# import required libraries\n",
    "from kafka import KafkaConsumer\n",
    "from time import localtime, strftime"
   ]
  },
  {
   "cell_type": "code",
   "execution_count": 2,
   "metadata": {},
   "outputs": [],
   "source": [
    "# Connect to kafka broker running in your local host (docker). Change this to your kafka broker if needed\n",
    "kafka_broker = 'localhost:9092'"
   ]
  },
  {
   "cell_type": "code",
   "execution_count": 3,
   "metadata": {},
   "outputs": [],
   "source": [
    "consumer = KafkaConsumer(\n",
    "    'sample2',\n",
    "    bootstrap_servers=[kafka_broker],\n",
    "    enable_auto_commit=True,\n",
    "    group_id='my-group',\n",
    "    session_timeout_ms=6000,\n",
    "    max_poll_interval_ms=6000,\n",
    "    value_deserializer=lambda x: x.decode('utf-8'))"
   ]
  },
  {
   "cell_type": "code",
   "execution_count": null,
   "metadata": {},
   "outputs": [
    {
     "name": "stdout",
     "output_type": "stream",
     "text": [
      "Running Consumer Group\n",
      "[14:28:19] message #0 from producer\n",
      "{TopicPartition(topic='sample2', partition=1)}\n",
      "[14:28:21] message #1 from producer\n",
      "{TopicPartition(topic='sample2', partition=1)}\n",
      "[14:28:23] message #2 from producer\n",
      "{TopicPartition(topic='sample2', partition=1)}\n",
      "[14:28:27] message #4 from producer\n",
      "{TopicPartition(topic='sample2', partition=1)}\n",
      "[14:28:29] message #5 from producer\n",
      "{TopicPartition(topic='sample2', partition=1)}\n",
      "[14:28:31] message #6 from producer\n",
      "{TopicPartition(topic='sample2', partition=1)}\n",
      "[14:28:33] message #7 from producer\n",
      "{TopicPartition(topic='sample2', partition=1)}\n",
      "[14:28:37] message #9 from producer\n",
      "{TopicPartition(topic='sample2', partition=1)}\n",
      "[14:28:39] message #10 from producer\n",
      "{TopicPartition(topic='sample2', partition=1)}\n",
      "[14:28:41] message #11 from producer\n",
      "{TopicPartition(topic='sample2', partition=1)}\n",
      "[14:28:43] message #12 from producer\n",
      "{TopicPartition(topic='sample2', partition=1)}\n",
      "[14:28:49] message #15 from producer\n",
      "{TopicPartition(topic='sample2', partition=1)}\n",
      "[14:28:53] message #17 from producer\n",
      "{TopicPartition(topic='sample2', partition=1)}\n",
      "[14:28:55] message #18 from producer\n",
      "{TopicPartition(topic='sample2', partition=1)}\n",
      "[14:28:59] message #20 from producer\n",
      "{TopicPartition(topic='sample2', partition=1)}\n",
      "[14:29:03] message #22 from producer\n",
      "{TopicPartition(topic='sample2', partition=1)}\n",
      "[14:29:05] message #23 from producer\n",
      "{TopicPartition(topic='sample2', partition=1)}\n",
      "[14:29:06] message #19 from producer\n",
      "{TopicPartition(topic='sample2', partition=0)}\n",
      "[14:29:06] message #21 from producer\n",
      "{TopicPartition(topic='sample2', partition=0)}\n",
      "[14:29:09] message #25 from producer\n",
      "{TopicPartition(topic='sample2', partition=0)}\n",
      "[14:29:11] message #26 from producer\n",
      "{TopicPartition(topic='sample2', partition=0)}\n",
      "[14:29:15] message #28 from producer\n",
      "{TopicPartition(topic='sample2', partition=0)}\n",
      "[14:29:19] message #30 from producer\n",
      "{TopicPartition(topic='sample2', partition=0)}\n",
      "[14:29:21] message #31 from producer\n",
      "{TopicPartition(topic='sample2', partition=0)}\n",
      "[14:29:24] message #32 from producer\n",
      "{TopicPartition(topic='sample2', partition=0)}\n",
      "[14:29:26] message #33 from producer\n",
      "{TopicPartition(topic='sample2', partition=0)}\n",
      "[14:29:28] message #34 from producer\n",
      "{TopicPartition(topic='sample2', partition=0)}\n",
      "[14:29:30] message #35 from producer\n",
      "{TopicPartition(topic='sample2', partition=0)}\n",
      "[14:29:36] message #38 from producer\n",
      "{TopicPartition(topic='sample2', partition=0)}\n",
      "[14:29:36] message #36 from producer\n",
      "{TopicPartition(topic='sample2', partition=0), TopicPartition(topic='sample2', partition=1)}\n",
      "[14:29:36] message #37 from producer\n",
      "{TopicPartition(topic='sample2', partition=0), TopicPartition(topic='sample2', partition=1)}\n",
      "[14:29:38] message #39 from producer\n",
      "{TopicPartition(topic='sample2', partition=0), TopicPartition(topic='sample2', partition=1)}\n",
      "[14:29:40] message #40 from producer\n",
      "{TopicPartition(topic='sample2', partition=0), TopicPartition(topic='sample2', partition=1)}\n",
      "[14:29:42] message #41 from producer\n",
      "{TopicPartition(topic='sample2', partition=0), TopicPartition(topic='sample2', partition=1)}\n",
      "[14:29:44] message #42 from producer\n",
      "{TopicPartition(topic='sample2', partition=0), TopicPartition(topic='sample2', partition=1)}\n"
     ]
    }
   ],
   "source": [
    "print('Running Consumer Group')\n",
    "for message in consumer:\n",
    "    ts = strftime(\"%H:%M:%S\", localtime())\n",
    "    print('[{}] {}'.format(ts, message.value, message.offset))\n",
    "    print(consumer.assignment())"
   ]
  },
  {
   "cell_type": "code",
   "execution_count": null,
   "metadata": {},
   "outputs": [],
   "source": [
    "consumer.close()"
   ]
  },
  {
   "cell_type": "code",
   "execution_count": null,
   "metadata": {},
   "outputs": [],
   "source": []
  }
 ],
 "metadata": {
  "kernelspec": {
   "display_name": "Python 3 (ipykernel)",
   "language": "python",
   "name": "python3"
  },
  "language_info": {
   "codemirror_mode": {
    "name": "ipython",
    "version": 3
   },
   "file_extension": ".py",
   "mimetype": "text/x-python",
   "name": "python",
   "nbconvert_exporter": "python",
   "pygments_lexer": "ipython3",
   "version": "3.9.13"
  },
  "toc": {
   "base_numbering": 1,
   "nav_menu": {},
   "number_sections": true,
   "sideBar": true,
   "skip_h1_title": false,
   "title_cell": "Table of Contents",
   "title_sidebar": "Contents",
   "toc_cell": false,
   "toc_position": {},
   "toc_section_display": true,
   "toc_window_display": false
  },
  "varInspector": {
   "cols": {
    "lenName": 16,
    "lenType": 16,
    "lenVar": 40
   },
   "kernels_config": {
    "python": {
     "delete_cmd_postfix": "",
     "delete_cmd_prefix": "del ",
     "library": "var_list.py",
     "varRefreshCmd": "print(var_dic_list())"
    },
    "r": {
     "delete_cmd_postfix": ") ",
     "delete_cmd_prefix": "rm(",
     "library": "var_list.r",
     "varRefreshCmd": "cat(var_dic_list()) "
    }
   },
   "types_to_exclude": [
    "module",
    "function",
    "builtin_function_or_method",
    "instance",
    "_Feature"
   ],
   "window_display": false
  }
 },
 "nbformat": 4,
 "nbformat_minor": 2
}
