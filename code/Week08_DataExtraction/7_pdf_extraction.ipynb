{
 "cells": [
  {
   "cell_type": "markdown",
   "id": "e8561266",
   "metadata": {},
   "source": [
    "# PDF Extraction\n",
    "\n",
    "PyPDF2 is an excellent PDF manipulating package in python.  It provides several capabilities include:\n",
    "- Read a PDF file\n",
    "- Extract text and other information\n",
    "- Manipulate PDF file e.g. rotate, merge, split, etc."
   ]
  },
  {
   "cell_type": "markdown",
   "id": "06e90c46",
   "metadata": {},
   "source": [
    "We must first install the package:\n",
    "```\n",
    "pip install PyPDF2\n",
    "```\n",
    "Once installed, we can import PyPDF2 into our program."
   ]
  },
  {
   "cell_type": "code",
   "execution_count": null,
   "id": "53c52638",
   "metadata": {},
   "outputs": [],
   "source": [
    "from PyPDF2 import PdfReader"
   ]
  },
  {
   "cell_type": "markdown",
   "id": "e6699de8",
   "metadata": {},
   "source": [
    "Read a sample file, 'ee_status.pdf', then count number of pages, and print out metadata"
   ]
  },
  {
   "cell_type": "code",
   "execution_count": null,
   "id": "e7b36c62",
   "metadata": {},
   "outputs": [],
   "source": [
    "reader = PdfReader('ee_status.pdf')"
   ]
  },
  {
   "cell_type": "code",
   "execution_count": null,
   "id": "2b5b8bc9",
   "metadata": {
    "scrolled": true
   },
   "outputs": [],
   "source": [
    "len(reader.pages)"
   ]
  },
  {
   "cell_type": "code",
   "execution_count": null,
   "id": "3df70309",
   "metadata": {},
   "outputs": [],
   "source": [
    "meta = reader.metadata\n",
    "print(meta.author)\n",
    "print(meta.creator)\n",
    "print(meta.producer)\n",
    "print(meta.subject)\n",
    "print(meta.title)"
   ]
  },
  {
   "cell_type": "markdown",
   "id": "ff3bd5f6",
   "metadata": {},
   "source": [
    "Extract text from pages 2"
   ]
  },
  {
   "cell_type": "code",
   "execution_count": null,
   "id": "c8594956",
   "metadata": {},
   "outputs": [],
   "source": [
    "page = reader.pages[1]"
   ]
  },
  {
   "cell_type": "code",
   "execution_count": null,
   "id": "dfb762d8",
   "metadata": {},
   "outputs": [],
   "source": [
    "text = page.extract_text()\n",
    "print(text)"
   ]
  },
  {
   "cell_type": "code",
   "execution_count": null,
   "id": "9c15cecc",
   "metadata": {},
   "outputs": [],
   "source": []
  }
 ],
 "metadata": {
  "kernelspec": {
   "display_name": "Python 3 (ipykernel)",
   "language": "python",
   "name": "python3"
  },
  "language_info": {
   "codemirror_mode": {
    "name": "ipython",
    "version": 3
   },
   "file_extension": ".py",
   "mimetype": "text/x-python",
   "name": "python",
   "nbconvert_exporter": "python",
   "pygments_lexer": "ipython3",
   "version": "3.9.15"
  }
 },
 "nbformat": 4,
 "nbformat_minor": 5
}
